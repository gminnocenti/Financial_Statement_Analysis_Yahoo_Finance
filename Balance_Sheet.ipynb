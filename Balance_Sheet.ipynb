{
 "cells": [
  {
   "cell_type": "code",
   "execution_count": 1,
   "metadata": {},
   "outputs": [],
   "source": [
    "import yfinance as yf\n",
    "import pandas as pd"
   ]
  },
  {
   "cell_type": "markdown",
   "metadata": {},
   "source": [
    "## Balance Sheet\n",
    "\n",
    "In a balance sheet \n",
    "\n",
    "Assets= Liabilities + Shareholder equity\n",
    "\n",
    "\n",
    "extract the rows of yahoo finance balance sheet that detail the assets of a company"
   ]
  },
  {
   "cell_type": "code",
   "execution_count": 2,
   "metadata": {},
   "outputs": [],
   "source": [
    "def get_Assets(balancesheet):\n",
    "\n",
    "    #extract current assets\n",
    "    current_Assets_columns=['Cash And Cash Equivalents','Other Short Term Investments','Accounts Receivable','Inventory','Other Current Assets','Current Assets']\n",
    "    current_Assets=balancesheet[current_Assets_columns]\n",
    "    #extract noncurrent assets\n",
    "    non_current_Assets_columns=['Net PPE','Investments And Advances', 'Other Non Current Assets','Total Non Current Assets']\n",
    "    non_current_assets=balancesheet[non_current_Assets_columns]\n",
    "    #extract total assets\n",
    "    total_Assets_columns=['Total Assets']\n",
    "    total_Assets=balancesheet[total_Assets_columns]\n",
    "    return current_Assets, non_current_assets,total_Assets\n",
    "\n",
    "def get_Liabilities(balancesheet):\n",
    "    #extract current  liabilies\n",
    "    current_liabilities_columns=[  'Other Current Liabilities',\n",
    "       'Current Deferred Liabilities',\n",
    "       'Current Debt And Capital Lease Obligation',\n",
    "       \n",
    "       'Payables And Accrued Expenses','Current Liabilities'\n",
    "       ]\n",
    "    current_Liabilities=balancesheet[current_liabilities_columns]\n",
    "    #extract noncurrent liabilities\n",
    "    non_current_Liabilities_columns=[ 'Other Non Current Liabilities', 'Tradeand Other Payables Non Current','Long Term Debt And Capital Lease Obligation','Total Non Current Liabilities Net Minority Interest']\n",
    "    non_current_Liabilities=balancesheet[non_current_Liabilities_columns]\n",
    "    # total liabilities\n",
    "    total_Liabilities_columns=['Total Liabilities Net Minority Interest']\n",
    "    total_Liabilities=balancesheet[total_Liabilities_columns]\n",
    "\n",
    "    return current_Liabilities, non_current_Liabilities,total_Liabilities\n",
    "\n",
    "def get_Equity(balancesheet):\n",
    "    #extract equity\n",
    "    equity_columns=['Total Equity Gross Minority Interest']\n",
    "    equity=balancesheet[equity_columns]\n",
    "    return equity"
   ]
  },
  {
   "cell_type": "code",
   "execution_count": 3,
   "metadata": {},
   "outputs": [],
   "source": [
    "def extract_balance_sheet(ticker):\n",
    "    stock=yf.Ticker(ticker)\n",
    "# extract balance sheet for the company\n",
    "    balancesheet=stock.balancesheet.T\n",
    "    #extract Assets dataframes\n",
    "    current_Assets, non_current_Assets,total_Assets=get_Assets(balancesheet)\n",
    "    #extract Liabilities dataframes\n",
    "    current_Liabilities,non_current_Liabilities,total_Liabilities=get_Liabilities(balancesheet)\n",
    "    # extract equity dataframe\n",
    "    total_ShareHolderEquity=get_Equity(balancesheet)\n",
    "    return current_Assets, non_current_Assets,total_Assets,current_Liabilities,non_current_Liabilities,total_Liabilities,total_ShareHolderEquity"
   ]
  },
  {
   "cell_type": "code",
   "execution_count": 4,
   "metadata": {},
   "outputs": [],
   "source": [
    "\n",
    "current_Assets, non_current_Assets,total_Assets,current_Liabilities,non_current_Liabilities,total_Liabilities,total_ShareHolderEquity=extract_balance_sheet('GE')\n",
    "\n",
    "\n"
   ]
  },
  {
   "cell_type": "markdown",
   "metadata": {},
   "source": [
    "# Financial Ratios of balance sheets\n",
    "### Current Ratio\n",
    "proportion of current assets to current liabilities\n",
    "\n",
    "current ratio = current assets/current liabilities\n",
    "\n",
    "current assets will bring benefits within one year "
   ]
  },
  {
   "cell_type": "code",
   "execution_count": 5,
   "metadata": {},
   "outputs": [],
   "source": [
    "def get_CurrentRatio(current_Assets,current_Liabilities):\n",
    "    \"\"\"This function calculates the Current Ratio for each year in the balance sheet\n",
    "    \"\"\"\n",
    "    current_Ratio = pd.DataFrame({\n",
    "    'Current Ratio': current_Assets['Current Assets'] / current_Liabilities['Current Liabilities'],\n",
    "    \n",
    "})\n",
    "    return current_Ratio\n"
   ]
  },
  {
   "cell_type": "markdown",
   "metadata": {},
   "source": [
    "### The bigger the ratio the better because it means the company has more money to pay urgent loans and payments"
   ]
  },
  {
   "cell_type": "code",
   "execution_count": 6,
   "metadata": {},
   "outputs": [],
   "source": [
    "current_Ratio=get_CurrentRatio(current_Assets,current_Liabilities)"
   ]
  },
  {
   "cell_type": "markdown",
   "metadata": {},
   "source": [
    "## Debt to equity Ratio\n",
    "proportion of company's total burden amount of money invested by its owners\n",
    "Debt to equity Ratio=Total Liabilities/total shareholders equity\n"
   ]
  },
  {
   "cell_type": "code",
   "execution_count": 7,
   "metadata": {},
   "outputs": [],
   "source": [
    "def get_DebttoEquityRatio(total_Liabilities, total_ShareHolderEquity):\n",
    "    \"\"\"This function calculates the Debt to Equity Ratio for each year in the balance sheet\"\"\"\n",
    "    \n",
    "    debt_to_equity_ratio = pd.DataFrame({\n",
    "        'Debt_to_Equity_Ratio': total_Liabilities['Total Liabilities Net Minority Interest'] / total_ShareHolderEquity['Total Equity Gross Minority Interest']\n",
    "    })\n",
    "    \n",
    "    return debt_to_equity_ratio"
   ]
  },
  {
   "cell_type": "code",
   "execution_count": 8,
   "metadata": {},
   "outputs": [],
   "source": [
    "debt_to_equity_Ratio=get_DebttoEquityRatio(total_Liabilities, total_ShareHolderEquity)"
   ]
  },
  {
   "cell_type": "markdown",
   "metadata": {},
   "source": [
    "## how much outside money (banks or loans) vs owners money (investor money) is being used to run the company\n",
    "\n",
    "If the ratio > 1 it means the company is using more debt to finance their activities.\n",
    "A ratio > 1 isn't necessary a bad sign in some cases when interests rates are low its a good thing. Be ware of companys with a ratio>1 when they poses high interests loans\n"
   ]
  },
  {
   "cell_type": "markdown",
   "metadata": {},
   "source": [
    "## Equity Multiplier Ratio\n",
    "proportion of a company's total assets to amount of money invested by its owners\n",
    "\n",
    "Equity Multiplier Ratio= Total assets/ Total shareholder equity\n"
   ]
  },
  {
   "cell_type": "code",
   "execution_count": 9,
   "metadata": {},
   "outputs": [],
   "source": [
    "def get_EquityMultiplierRatio(total_Assets,total_ShareHolderEquity):\n",
    "    \"\"\"This function calculates the equity multiplier ratio for each year in the balance sheet\"\"\"\n",
    "    \n",
    "    equity_multiplier_ratio = pd.DataFrame({\n",
    "        'Equity_Multiplier_Ratio': total_Assets['Total Assets'] / total_ShareHolderEquity['Total Equity Gross Minority Interest']\n",
    "    })\n",
    "    return equity_multiplier_ratio\n",
    "    "
   ]
  },
  {
   "cell_type": "code",
   "execution_count": 10,
   "metadata": {},
   "outputs": [],
   "source": [
    "equity_multiplier_Ratio= get_EquityMultiplierRatio(total_Assets,total_ShareHolderEquity)\n"
   ]
  },
  {
   "cell_type": "markdown",
   "metadata": {},
   "source": [
    "\n",
    "### how much assets are funded by the the owners (shareholders)\n",
    "\n",
    "a low ratio <0 means company uses relatively more debt to fund the assets "
   ]
  },
  {
   "cell_type": "markdown",
   "metadata": {},
   "source": [
    "## Debt to assets ratio\n",
    "Debt to assets ratio= Total Liabilities/ Total Assets\n",
    "\n",
    "wheter a company has enough assets to pay off its burdens\n"
   ]
  },
  {
   "cell_type": "code",
   "execution_count": 11,
   "metadata": {},
   "outputs": [],
   "source": [
    "def get_DebttoAssetsRatio(total_Liabilities,total_Assets):\n",
    "    \"\"\"This function calculates the Debt to assets ratio for each year in the balance sheet\"\"\"\n",
    "    \n",
    "    debt_to_assets_ratio = pd.DataFrame({\n",
    "        'Debt_To_Assets_Ratio':total_Liabilities['Total Liabilities Net Minority Interest'] /total_Assets['Total Assets']\n",
    "    })\n",
    "    return debt_to_assets_ratio\n",
    "    "
   ]
  },
  {
   "cell_type": "code",
   "execution_count": 12,
   "metadata": {},
   "outputs": [],
   "source": [
    "debt_to_assets_Ratio= get_DebttoAssetsRatio(total_Liabilities,total_Assets)\n"
   ]
  },
  {
   "cell_type": "markdown",
   "metadata": {},
   "source": [
    "It looks iof the company is capable of meating obligations in general\n",
    "\n",
    "The smaller the value the better. If the ratio > 1 it means it has way more debt than assets"
   ]
  },
  {
   "cell_type": "markdown",
   "metadata": {},
   "source": [
    "## Liquidity Ratios give us a picture of the business' ability to meet its short term financial burdens. \n",
    "* Current Ratio\n",
    "## Leverage ratios tell us how a company uses equity and debt to finance its operations. \n",
    "* Debt to Equity Ratio\n",
    "* Equity Multiplier Ratio\n",
    "\n",
    "## Solvency ratios give us a picture of a company's financial health. It tells us whether it will be able to meet its financial obligations in general, not just in the short term like liquidity ratios.\n",
    "\n",
    "* Debt to assets ratio"
   ]
  },
  {
   "cell_type": "markdown",
   "metadata": {},
   "source": [
    "## Compare ratios of a company by  Year"
   ]
  },
  {
   "cell_type": "markdown",
   "metadata": {},
   "source": [
    "# Financial Statement"
   ]
  },
  {
   "cell_type": "code",
   "execution_count": 13,
   "metadata": {},
   "outputs": [],
   "source": [
    "def get_TotalRevenue(ticker):\n",
    "    financial=yf.Ticker(ticker)\n",
    "    financial=financial.financials.T\n",
    "    total_Revenue = pd.DataFrame({\n",
    "    'Total Revenue': financial['Total Revenue']\n",
    "    \n",
    "})\n",
    "    return total_Revenue\n",
    "\n",
    "\n",
    "total_Revenue=get_TotalRevenue('AAPL')"
   ]
  },
  {
   "cell_type": "markdown",
   "metadata": {},
   "source": [
    "# Ratios from Financial statement and Balance  Sheet"
   ]
  },
  {
   "cell_type": "markdown",
   "metadata": {},
   "source": [
    "## Asset Turnover Ratio\n",
    "\n",
    "asset turnover ratio= total revenue/total assets\n",
    "measures how efficiently a company is using assets to generate revenue"
   ]
  },
  {
   "cell_type": "code",
   "execution_count": 14,
   "metadata": {},
   "outputs": [],
   "source": [
    "def get_AssetTurnoverRatio(total_Revenue,total_Assets):\n",
    "    \"\"\"This function calculates the Asset Turnover Ratio Ratio for each year in the balance sheet\n",
    "    \"\"\"\n",
    "    asset_turnover_Ratio = pd.DataFrame({\n",
    "    'Asset Turnover Ratio': total_Revenue['Total Revenue']/ total_Assets['Total Assets']\n",
    "    \n",
    "})\n",
    "    return asset_turnover_Ratio"
   ]
  },
  {
   "cell_type": "code",
   "execution_count": 15,
   "metadata": {},
   "outputs": [],
   "source": [
    "asset_turnover_Ratio=get_AssetTurnoverRatio(total_Revenue,total_Assets)"
   ]
  },
  {
   "cell_type": "markdown",
   "metadata": {},
   "source": [
    "The bigger the asset to turnover ratio the more efficient the company is to generate revenue from its assets\n",
    "the lowe the less efficient the company is"
   ]
  },
  {
   "cell_type": "code",
   "execution_count": 16,
   "metadata": {},
   "outputs": [],
   "source": [
    "def get_CompleteBalancesheet(ticker):\n",
    "        \n",
    "        current_Assets, non_current_Assets,total_Assets,current_Liabilities,non_current_Liabilities,total_Liabilities,total_ShareHolderEquity=extract_balance_sheet(ticker)\n",
    "        result_df = pd.concat([current_Assets, non_current_Assets, total_Assets,\n",
    "                          current_Liabilities, non_current_Liabilities, total_Liabilities,\n",
    "                          total_ShareHolderEquity], axis=1)\n",
    "        return result_df"
   ]
  },
  {
   "cell_type": "code",
   "execution_count": 17,
   "metadata": {},
   "outputs": [],
   "source": [
    "balancesheet=get_CompleteBalancesheet('AAPL')\n"
   ]
  },
  {
   "cell_type": "code",
   "execution_count": 18,
   "metadata": {},
   "outputs": [],
   "source": [
    "def get_MultipleBalanceSheet(listoftickers):\n",
    "    df_list=[]\n",
    "    for i in range(len(listoftickers)):\n",
    "        df=get_CompleteBalancesheet(listoftickers[i])\n",
    "        df['Company'] = [listoftickers[i]] * len(df)\n",
    "        df_list.append(df)\n",
    "    \n",
    "    multiple_BalanceSheets = pd.concat(df_list, ignore_index=False)\n",
    "\n",
    "    return multiple_BalanceSheets        "
   ]
  },
  {
   "cell_type": "code",
   "execution_count": 19,
   "metadata": {},
   "outputs": [],
   "source": [
    "listoftickers=['IBM','GE']\n",
    "\n",
    "balance=get_MultipleBalanceSheet(listoftickers)\n"
   ]
  },
  {
   "cell_type": "markdown",
   "metadata": {},
   "source": [
    "# financial statement"
   ]
  },
  {
   "cell_type": "code",
   "execution_count": 20,
   "metadata": {},
   "outputs": [],
   "source": [
    "def get_Financial(ticker):\n",
    "       stock=yf.Ticker(ticker)\n",
    "       # extract balance sheet for the company\n",
    "       financial=stock.financials.T\n",
    "       financialcolumns=['Total Revenue','Gross Profit', 'Cost Of Revenue','Operating Income', 'Operating Expense','Other Non Operating Income Expenses',\n",
    "       'Tax Provision', 'Pretax Income','Net Income','Diluted NI Availto Com Stockholders','Net Interest Income', 'Interest Expense', 'Interest Income',\n",
    "       'Normalized Income',\n",
    "       'Net Income From Continuing And Discontinued Operation',\n",
    "       'Total Expenses', \n",
    "       'Diluted Average Shares', 'Basic Average Shares', 'Diluted EPS',\n",
    "       'Basic EPS',\n",
    "       'Other Income Expense','Tax Effect Of Unusual Items', 'Tax Rate For Calcs',\n",
    "       'Normalized EBITDA',\n",
    "       'Net Income From Continuing Operation Net Minority Interest',\n",
    "       'Reconciled Depreciation', 'Reconciled Cost Of Revenue', 'EBITDA',\n",
    "       'EBIT',]\n",
    "       financial=financial[financialcolumns]\n",
    "       return financial\n",
    "\n",
    "\n",
    "def get_MultipleFinancial(listoftickers):\n",
    "    df_list=[]\n",
    "    for i in range(len(listoftickers)):\n",
    "        df=get_Financial(listoftickers[i])\n",
    "        df['Company'] = [listoftickers[i]] * len(df)\n",
    "        df_list.append(df) \n",
    "    multiple_Financial = pd.concat(df_list, ignore_index=False)\n",
    "    return multiple_Financial      "
   ]
  },
  {
   "cell_type": "code",
   "execution_count": 21,
   "metadata": {},
   "outputs": [],
   "source": [
    "listoftickers=[\"AAPL\",\"GOOG\",\"NVDA\",\"MSFT\",\"INTC\",\"PFE\", \"IBM\",\"GE\"]\n",
    "multiple_financial=get_MultipleFinancial(listoftickers)"
   ]
  },
  {
   "cell_type": "markdown",
   "metadata": {},
   "source": [
    "# Cashflow \n",
    "Transaction recorded in income statement and when it takes place, not when cash is exchanged\\"
   ]
  },
  {
   "cell_type": "code",
   "execution_count": 22,
   "metadata": {},
   "outputs": [],
   "source": [
    "def get_CashFLow(ticker):\n",
    "       stock=yf.Ticker(ticker)\n",
    "       # extract balance sheet for the company\n",
    "       cashflow=stock.cashflow.T\n",
    "       cashflowcolumns=['Free Cash Flow', 'Repurchase Of Capital Stock', 'Repayment Of Debt',\n",
    "              'Issuance Of Debt', 'Capital Expenditure','End Cash Position','Financing Cash Flow','Investing Cash Flow','Operating Cash Flow']\n",
    "       cashflow=cashflow[cashflowcolumns]\n",
    "       return cashflow\n",
    "\n",
    "\n",
    "def get_MultipleCashFlow(listoftickers):\n",
    "    df_list=[]\n",
    "    for i in range(len(listoftickers)):\n",
    "        df=get_CashFLow(listoftickers[i])\n",
    "        df['Company'] = [listoftickers[i]] * len(df)\n",
    "        df_list.append(df)\n",
    "    \n",
    "    multiple_CahsFlow = pd.concat(df_list, ignore_index=False)\n",
    "\n",
    "    return multiple_CahsFlow      "
   ]
  },
  {
   "cell_type": "code",
   "execution_count": 23,
   "metadata": {},
   "outputs": [],
   "source": [
    "listoftickers=[\"AAPL\",\"GOOG\",\"NVDA\",\"MSFT\",\"INTC\",\"PFE\", \"IBM\",\"GE\"]\n",
    "cash=get_MultipleCashFlow(listoftickers)\n"
   ]
  },
  {
   "cell_type": "markdown",
   "metadata": {},
   "source": [
    "## Cashflow from operations\n",
    "Accounts receibables is when costumers pay on a later date (credit)\n",
    "accounts payable  cash inflow\n",
    "## Cashflow from investments\n",
    "generated or lost cash from investing activities\n",
    "buying a property (cash outflow)\n",
    "## cash flow from  financing activities\n"
   ]
  },
  {
   "cell_type": "markdown",
   "metadata": {},
   "source": [
    "# Financial Ratios from the Cash Flow statement"
   ]
  },
  {
   "cell_type": "markdown",
   "metadata": {},
   "source": [
    "## Cashflow to net income ratio\n",
    "proportion of cashflow from operating activities to net income\n",
    "cashflow from operating activities/ net income\n"
   ]
  },
  {
   "cell_type": "code",
   "execution_count": 24,
   "metadata": {},
   "outputs": [],
   "source": [
    "def get_CashFlowtoNetIncomeRatio(cashflow,financial):\n",
    "    \"\"\"This function calculates the CashFlowtoNetIncomeRatio for each year in the balance sheet\n",
    "    \"\"\"\n",
    "    cash_flow_to_net_income_Ratio = pd.DataFrame({\n",
    "    'Cash Flow to Income Ratio': cashflow['Operating Cash Flow']/ financial['Net Income']\n",
    "    \n",
    "})\n",
    "    return cash_flow_to_net_income_Ratio"
   ]
  },
  {
   "cell_type": "code",
   "execution_count": 25,
   "metadata": {},
   "outputs": [],
   "source": [
    "financial=get_Financial('AAPL')\n",
    "cashflow=get_CashFLow('AAPL')\n",
    "cash_flow_to_net_income_Ratio=get_CashFlowtoNetIncomeRatio(cashflow,financial)\n"
   ]
  },
  {
   "cell_type": "markdown",
   "metadata": {},
   "source": [
    "A high ratio indicates bussiness generates a sizable proportion of cash from operating activities\n"
   ]
  },
  {
   "cell_type": "markdown",
   "metadata": {},
   "source": [
    "## Operating Cashflow Ratio\n",
    "\n",
    "Proportion of cashflow from operating activities to current liabilities\n"
   ]
  },
  {
   "cell_type": "code",
   "execution_count": 26,
   "metadata": {},
   "outputs": [],
   "source": [
    "def get_OperatingCashFlowRatio(cashflow,current_Liabilities):\n",
    "    \"\"\"This function calculates the Operating Cashflow Ratiofor each year in the balance sheet\n",
    "    \"\"\"\n",
    "    operating_cash_flow_Ratio = pd.DataFrame({\n",
    "    'Operating Cash Flow Ratio': cashflow['Operating Cash Flow']/ current_Liabilities['Current Liabilities']\n",
    "    \n",
    "})\n",
    "    return operating_cash_flow_Ratio"
   ]
  },
  {
   "cell_type": "code",
   "execution_count": 27,
   "metadata": {},
   "outputs": [],
   "source": [
    "current_Assets, non_current_Assets,total_Assets,current_Liabilities,non_current_Liabilities,total_Liabilities,total_ShareHolderEquity=extract_balance_sheet('AAPL')\n",
    "operating_cash_flow_Ratio=get_OperatingCashFlowRatio(cashflow,current_Liabilities)"
   ]
  },
  {
   "cell_type": "markdown",
   "metadata": {},
   "source": [
    "How many times the bussiness can pay off short term obligations using the cash it generates from the core of its bussiness\n",
    "\n",
    "ratio> 1 means a bussiness generates more than enough cash to meet short term obligations"
   ]
  },
  {
   "cell_type": "code",
   "execution_count": 28,
   "metadata": {},
   "outputs": [],
   "source": [
    "def get_RatiosofMultipleCompanies(listoftickers):\n",
    "    \"\"\"The purpose of this function is to calculate the different ratios for a series of companies and concatenate the results\n",
    "    \"\"\"\n",
    "    #create empty list to store the different dfs of ratios\n",
    "    current_ratio_list=[]\n",
    "    debt_to_equity_ratio_list=[]\n",
    "    equity_multiplier_ratio_list=[]\n",
    "    debt_to_assets_ratio_list=[]\n",
    "    asset_turnover_Ratio_list=[]\n",
    "    cash_flow_to_net_income_Ratio_list=[]\n",
    "    operating_cash_flow_Ratio_list=[]\n",
    "    for i in range(len(listoftickers)):\n",
    "        #generate balance sheets for each ticker\n",
    "       \n",
    "        current_Assets, non_current_Assets,total_Assets,current_Liabilities,non_current_Liabilities,total_Liabilities,total_ShareHolderEquity=extract_balance_sheet(listoftickers[i])\n",
    "        total_Revenue=get_TotalRevenue(listoftickers[i])\n",
    "        financial=get_Financial(listoftickers[i])\n",
    "        cashflow=get_CashFLow(listoftickers[i])\n",
    "        \n",
    "        #get ratios\n",
    "        current_Ratio=get_CurrentRatio(current_Assets,current_Liabilities)\n",
    "        debt_to_equity_Ratio=get_DebttoEquityRatio(total_Liabilities, total_ShareHolderEquity)\n",
    "        equity_multiplier_Ratio= get_EquityMultiplierRatio(total_Assets,total_ShareHolderEquity)\n",
    "        debt_to_assets_Ratio= get_DebttoAssetsRatio(total_Liabilities,total_Assets)\n",
    "        asset_turnover_Ratio=get_AssetTurnoverRatio(total_Revenue,total_Assets)\n",
    "        cash_flow_to_net_income_Ratio=get_CashFlowtoNetIncomeRatio(cashflow,financial)\n",
    "        operating_cash_flow_Ratio=get_OperatingCashFlowRatio(cashflow,current_Liabilities)\n",
    "        #generate new column to identify the company's ratios\n",
    "        current_Ratio['Company'] = [listoftickers[i]] * len(current_Ratio)\n",
    "        current_ratio_list.append(current_Ratio)\n",
    "        debt_to_equity_Ratio['Company'] = [listoftickers[i]] * len(current_Ratio)\n",
    "        debt_to_equity_ratio_list.append(debt_to_equity_Ratio)\n",
    "        equity_multiplier_Ratio['Company'] = [listoftickers[i]] * len(current_Ratio)\n",
    "        equity_multiplier_ratio_list.append(equity_multiplier_Ratio)\n",
    "        debt_to_assets_Ratio['Company'] = [listoftickers[i]] * len(current_Ratio)\n",
    "        debt_to_assets_ratio_list.append(debt_to_assets_Ratio)\n",
    "        asset_turnover_Ratio['Company'] = [listoftickers[i]] * len(current_Ratio)\n",
    "        asset_turnover_Ratio_list.append(asset_turnover_Ratio)\n",
    "        cash_flow_to_net_income_Ratio['Company'] = [listoftickers[i]] * len(current_Ratio)\n",
    "        cash_flow_to_net_income_Ratio_list.append(cash_flow_to_net_income_Ratio)\n",
    "        operating_cash_flow_Ratio['Company'] = [listoftickers[i]] * len(current_Ratio)\n",
    "        operating_cash_flow_Ratio_list.append(operating_cash_flow_Ratio)\n",
    "\n",
    "\n",
    "\n",
    "    #concat all dfs of every ratio\n",
    "    current_ratio_comparison = pd.concat(current_ratio_list, ignore_index=False)\n",
    "    debt_to_equity_ratio_comparison = pd.concat(debt_to_equity_ratio_list, ignore_index=False)\n",
    "    equity_multiplier_ratio_comparison = pd.concat(equity_multiplier_ratio_list, ignore_index=False)\n",
    "    debt_to_assets_ratio_comparison=pd.concat(debt_to_assets_ratio_list, ignore_index=False)\n",
    "    asset_turnover_ratio_comparison=pd.concat(asset_turnover_Ratio_list, ignore_index=False)\n",
    "    cash_flow_to_net_income_Ratio_comparison=pd.concat(cash_flow_to_net_income_Ratio_list, ignore_index=False)\n",
    "    operating_cash_flow_Ratio_comparison=pd.concat(operating_cash_flow_Ratio_list, ignore_index=False)\n",
    "\n",
    "\n",
    "    return current_ratio_comparison,debt_to_equity_ratio_comparison,equity_multiplier_ratio_comparison,debt_to_assets_ratio_comparison,asset_turnover_ratio_comparison,cash_flow_to_net_income_Ratio_comparison,operating_cash_flow_Ratio_comparison"
   ]
  },
  {
   "cell_type": "code",
   "execution_count": 29,
   "metadata": {},
   "outputs": [],
   "source": [
    "def get_RelativeDifferenceofRatio(listoftickers):\n",
    "    \"\"\"The purpose of this function is to calculate the relative difference of a series of companies by year to compare how each performed in the difference metrics in comparison\n",
    "    to each other\"\"\"\n",
    "    current_ratio_comparison,debt_to_equity_ratio_comparison,equity_multiplier_ratio_comparison,debt_to_assets_ratio_comparison,asset_turnover_ratio_comparison,cash_flow_to_net_income_Ratio_comparison,operating_cash_flow_Ratio_comparison= get_RatiosofMultipleCompanies(listoftickers)\n",
    "    dflist=[current_ratio_comparison,debt_to_equity_ratio_comparison,equity_multiplier_ratio_comparison,debt_to_assets_ratio_comparison,asset_turnover_ratio_comparison,cash_flow_to_net_income_Ratio_comparison,operating_cash_flow_Ratio_comparison]\n",
    "    ratio_list=['Current Ratio','Debt_to_Equity_Ratio','Equity_Multiplier_Ratio','Debt_To_Assets_Ratio','Asset Turnover Ratio','Cash Flow to Income Ratio', 'Operating Cash Flow Ratio']\n",
    "    new_df_list=[]\n",
    "    for i in range(len(dflist)):\n",
    "        df=dflist[i]\n",
    "        df['Year'] = df.index.year\n",
    "        df['Comparison Ratio']=df.groupby('Year')[ratio_list[i]].transform('mean')\n",
    "        df[\"Relative_Difference\"]=(df[ratio_list[i]]/df['Comparison Ratio'])-1\n",
    "        new_df_list.append(df)\n",
    "    \n",
    "    current_ratio_relative_difference=new_df_list[0]\n",
    "    debt_to_equity_ratio_relative_difference=new_df_list[1]\n",
    "    equity_multiplier_ratio_relative_difference=new_df_list[2]\n",
    "    debt_to_assets_ratio_relative_difference=new_df_list[3]\n",
    "    asset_turnover_ratio_relative_difference=new_df_list[4]\n",
    "    cash_flow_to_net_income_relative_difference=new_df_list[5]\n",
    "    operating_cash_flow_Ratio_relative_difference=new_df_list[5]\n",
    "\n",
    "\n",
    "\n",
    "    return current_ratio_relative_difference,debt_to_equity_ratio_relative_difference,equity_multiplier_ratio_relative_difference,debt_to_assets_ratio_relative_difference,asset_turnover_ratio_relative_difference,cash_flow_to_net_income_relative_difference,operating_cash_flow_Ratio_relative_difference\n",
    "    "
   ]
  },
  {
   "cell_type": "code",
   "execution_count": 30,
   "metadata": {},
   "outputs": [],
   "source": [
    "\n",
    "def get_WholeRatio(listoftickers):\n",
    "    current_ratio_comparison,debt_to_equity_ratio_comparison,equity_multiplier_ratio_comparison,debt_to_assets_ratio_comparison,asset_turnover_ratio_comparison,cash_flow_to_net_income_Ratio_comparison,operating_cash_flow_Ratio_comparison= get_RatiosofMultipleCompanies(listoftickers)\n",
    "    dfs = [current_ratio_comparison,debt_to_equity_ratio_comparison,equity_multiplier_ratio_comparison,debt_to_assets_ratio_comparison,asset_turnover_ratio_comparison,cash_flow_to_net_income_Ratio_comparison,operating_cash_flow_Ratio_comparison]\n",
    "    Ratio_df = pd.concat([df.set_index('Company', append=True) for df in dfs], axis=1).reset_index('Company')\n",
    "    return Ratio_df"
   ]
  },
  {
   "cell_type": "markdown",
   "metadata": {},
   "source": [
    "# Profitability Metrics\n",
    "\n",
    "### how a company generates profit from its revenue\n",
    "gross profit margin\n",
    "operating Profit margin "
   ]
  },
  {
   "cell_type": "code",
   "execution_count": 31,
   "metadata": {},
   "outputs": [],
   "source": [
    "def get_GrossProfitMargin(financial):\n",
    "    \"\"\"This function calculates the Gross Profit Margin for each year in the balance sheet\n",
    "    \"\"\"\n",
    "    gross_profit_Margin = pd.DataFrame({\n",
    "    'Gross Profit Margin': (financial['Gross Profit']/ financial['Total Revenue'])*100\n",
    "    \n",
    "})\n",
    "    return gross_profit_Margin"
   ]
  },
  {
   "cell_type": "code",
   "execution_count": 32,
   "metadata": {},
   "outputs": [],
   "source": [
    "def get_OperatingProfit_Margin(financial):\n",
    "    \"\"\"This function calculates the Operating Profit Margin for each year in the balance sheet\n",
    "    \"\"\"\n",
    "    operating_profit_Margin = pd.DataFrame({\n",
    "    'Operating Profit Margin': (financial['EBIT']/ financial['Total Revenue'])*100\n",
    "    \n",
    "})\n",
    "    return operating_profit_Margin"
   ]
  },
  {
   "cell_type": "code",
   "execution_count": 33,
   "metadata": {},
   "outputs": [
    {
     "data": {
      "text/html": [
       "<div>\n",
       "<style scoped>\n",
       "    .dataframe tbody tr th:only-of-type {\n",
       "        vertical-align: middle;\n",
       "    }\n",
       "\n",
       "    .dataframe tbody tr th {\n",
       "        vertical-align: top;\n",
       "    }\n",
       "\n",
       "    .dataframe thead th {\n",
       "        text-align: right;\n",
       "    }\n",
       "</style>\n",
       "<table border=\"1\" class=\"dataframe\">\n",
       "  <thead>\n",
       "    <tr style=\"text-align: right;\">\n",
       "      <th></th>\n",
       "      <th>Operating Profit Margin</th>\n",
       "    </tr>\n",
       "  </thead>\n",
       "  <tbody>\n",
       "    <tr>\n",
       "      <th>2023-09-30</th>\n",
       "      <td>29.821412</td>\n",
       "    </tr>\n",
       "    <tr>\n",
       "      <th>2022-09-30</th>\n",
       "      <td>30.288744</td>\n",
       "    </tr>\n",
       "    <tr>\n",
       "      <th>2021-09-30</th>\n",
       "      <td>29.782378</td>\n",
       "    </tr>\n",
       "    <tr>\n",
       "      <th>2020-09-30</th>\n",
       "      <td>24.147314</td>\n",
       "    </tr>\n",
       "  </tbody>\n",
       "</table>\n",
       "</div>"
      ],
      "text/plain": [
       "           Operating Profit Margin\n",
       "2023-09-30               29.821412\n",
       "2022-09-30               30.288744\n",
       "2021-09-30               29.782378\n",
       "2020-09-30               24.147314"
      ]
     },
     "execution_count": 33,
     "metadata": {},
     "output_type": "execute_result"
    }
   ],
   "source": [
    "margin=get_OperatingProfit_Margin(financial)\n",
    "margin"
   ]
  },
  {
   "cell_type": "code",
   "execution_count": 34,
   "metadata": {},
   "outputs": [],
   "source": [
    "def get_MultipleProfitabilityRatios(listoftickers):\n",
    "    \n",
    "    listofdfs=[]\n",
    "    for i in range(len(listoftickers)):\n",
    "        financial=get_Financial(listoftickers[i])\n",
    "        gross_profit_Margin=get_GrossProfitMargin(financial)\n",
    "        gross_profit_Margin = gross_profit_Margin.sort_index()\n",
    "        gross_profit_Margin['Gross Profit Margin YoY Change']=round(gross_profit_Margin['Gross Profit Margin'].pct_change() * 100,2)\n",
    "        operating_profit_Margin=get_OperatingProfit_Margin(financial)\n",
    "        operating_profit_Margin = operating_profit_Margin.sort_index()\n",
    "        operating_profit_Margin['Operating Profit Margin YoY Change'] = round(operating_profit_Margin['Operating Profit Margin'].pct_change() * 100,2)\n",
    "        operating_profit_Margin['Company'] = [listoftickers[i]] * len(operating_profit_Margin)\n",
    "        df=pd.concat([operating_profit_Margin,gross_profit_Margin],axis=1)\n",
    "        listofdfs.append(df)\n",
    "    \n",
    "    profitabilityRatios = pd.concat(listofdfs, axis=0)\n",
    "    return profitabilityRatios"
   ]
  },
  {
   "cell_type": "code",
   "execution_count": 35,
   "metadata": {},
   "outputs": [],
   "source": [
    "profitability=get_MultipleProfitabilityRatios(listoftickers)\n"
   ]
  },
  {
   "cell_type": "code",
   "execution_count": 36,
   "metadata": {},
   "outputs": [],
   "source": [
    "def get_RankingTableProfitability(profitability):\n",
    "    df = profitability.sort_index()\n",
    "    # Extract the last two years\n",
    "    last_two_years = df[df.index >= (df.index.max() - pd.DateOffset(years=2))]\n",
    "    # Calculate the mean Gross Profit Margin YoY Change for each company\n",
    "    gross_proffitmean_yoy_change_by_company = last_two_years.groupby('Company')['Gross Profit Margin YoY Change'].mean()\n",
    "    gross_proffitmean_yoy_change_by_company = gross_proffitmean_yoy_change_by_company.reset_index()\n",
    "    gross_proffitmean_yoy_change_by_company = gross_proffitmean_yoy_change_by_company.sort_values(by='Gross Profit Margin YoY Change', ascending=False)\n",
    "    operating_proffitmean_yoy_change_by_company=last_two_years.groupby('Company')['Operating Profit Margin YoY Change'].mean()\n",
    "    operating_proffitmean_yoy_change_by_company = operating_proffitmean_yoy_change_by_company.reset_index()\n",
    "    operating_proffitmean_yoy_change_by_company = operating_proffitmean_yoy_change_by_company.sort_values(by='Operating Profit Margin YoY Change', ascending=False)\n",
    "\n",
    "    return gross_proffitmean_yoy_change_by_company,operating_proffitmean_yoy_change_by_company\n",
    "    \n"
   ]
  },
  {
   "cell_type": "markdown",
   "metadata": {},
   "source": [
    "# Liquidity Ratios\n",
    "* Current Ratio\n",
    "The bigger the ratio the better because it means the company has more money to pay urgent loans and payments\n",
    "* Operating Cashflow Ratio\n",
    "How many times the bussiness can pay off short term obligations using the cash it generates from the core of its bussiness\n",
    "ratio> 1 means a bussiness generates more than enough cash to meet short term obligations\n",
    "\n",
    "\n",
    "\n",
    "# eficiency ratios \n",
    "* Cashflow to net income ratio\n",
    "proportion of cashflow from operating activities to net income\n",
    "cashflow from operating activities/ net income\n",
    "A high ratio indicates bussiness generates a sizable proportion of cash from operating activities\n",
    "\n",
    "\n",
    "* Asset Turnover Ratio\n",
    "asset turnover ratio= total revenue/total assets\n",
    "measures how efficiently a company is using assets to generate revenue\n",
    "The bigger the asset to turnover ratio the more efficient the company is to generate revenue from its assets\n",
    "the lowe the less efficient the company is"
   ]
  },
  {
   "cell_type": "code",
   "execution_count": 40,
   "metadata": {},
   "outputs": [],
   "source": [
    "def get_MultipleEfficiencyRatios(listoftickers):\n",
    "    listofdfs=[]\n",
    "    for i in range(len(listoftickers)):\n",
    "        cashflow=get_CashFLow(listoftickers[i])\n",
    "        financial=get_Financial(listoftickers[i])\n",
    "\n",
    "        cash_flow_to_net_income_Ratio=get_CashFlowtoNetIncomeRatio(cashflow,financial)\n",
    "        cash_flow_to_net_income_Ratio = cash_flow_to_net_income_Ratio.sort_index()\n",
    "        cash_flow_to_net_income_Ratio['Cash Flow to Income Ratio YoY Change']=round(cash_flow_to_net_income_Ratio['Cash Flow to Income Ratio'].pct_change() * 100,2)\n",
    "        cash_flow_to_net_income_Ratio['Company'] = [listoftickers[i]] * len(cash_flow_to_net_income_Ratio)\n",
    "        listofdfs.append(cash_flow_to_net_income_Ratio)\n",
    "\n",
    "    efficiency = pd.concat(listofdfs, axis=0)\n",
    "    return efficiency\n",
    "                "
   ]
  },
  {
   "cell_type": "code",
   "execution_count": 46,
   "metadata": {},
   "outputs": [],
   "source": [
    "def get_RankingTableEfficiency(efficiency):\n",
    "    df = efficiency.sort_index()\n",
    "    # Extract the last two years\n",
    "    last_two_years = df[df.index >= (df.index.max() - pd.DateOffset(years=2))]\n",
    "    # Calculate the mean Gross Profit Margin YoY Change for each company\n",
    "    cash_flow_to_net_income_Ratio_Ranking = last_two_years.groupby('Company')['Cash Flow to Income Ratio'].mean()\n",
    "    cash_flow_to_net_income_Ratio_Ranking = cash_flow_to_net_income_Ratio_Ranking.reset_index()\n",
    "    cash_flow_to_net_income_Ratio_Ranking = cash_flow_to_net_income_Ratio_Ranking.sort_values(by='Cash Flow to Income Ratio', ascending=False)\n",
    "\n",
    "    asset_turnover_Ratio_Ranking=last_two_years.groupby('Company')['Cash Flow to Income Ratio YoY Change'].mean()\n",
    "    asset_turnover_Ratio_Ranking = asset_turnover_Ratio_Ranking.reset_index()\n",
    "    asset_turnover_Ratio_Ranking = asset_turnover_Ratio_Ranking.sort_values(by='Cash Flow to Income Ratio YoY Change', ascending=False)\n",
    "    return cash_flow_to_net_income_Ratio_Ranking,asset_turnover_Ratio_Ranking\n",
    "    "
   ]
  },
  {
   "cell_type": "code",
   "execution_count": 48,
   "metadata": {},
   "outputs": [
    {
     "data": {
      "text/html": [
       "<div>\n",
       "<style scoped>\n",
       "    .dataframe tbody tr th:only-of-type {\n",
       "        vertical-align: middle;\n",
       "    }\n",
       "\n",
       "    .dataframe tbody tr th {\n",
       "        vertical-align: top;\n",
       "    }\n",
       "\n",
       "    .dataframe thead th {\n",
       "        text-align: right;\n",
       "    }\n",
       "</style>\n",
       "<table border=\"1\" class=\"dataframe\">\n",
       "  <thead>\n",
       "    <tr style=\"text-align: right;\">\n",
       "      <th></th>\n",
       "      <th>Cash Flow to Income Ratio</th>\n",
       "      <th>Cash Flow to Income Ratio YoY Change</th>\n",
       "      <th>Company</th>\n",
       "    </tr>\n",
       "  </thead>\n",
       "  <tbody>\n",
       "    <tr>\n",
       "      <th>2020-09-30</th>\n",
       "      <td>1.405201</td>\n",
       "      <td>NaN</td>\n",
       "      <td>AAPL</td>\n",
       "    </tr>\n",
       "    <tr>\n",
       "      <th>2021-09-30</th>\n",
       "      <td>1.098838</td>\n",
       "      <td>-21.80</td>\n",
       "      <td>AAPL</td>\n",
       "    </tr>\n",
       "    <tr>\n",
       "      <th>2022-09-30</th>\n",
       "      <td>1.223921</td>\n",
       "      <td>11.38</td>\n",
       "      <td>AAPL</td>\n",
       "    </tr>\n",
       "    <tr>\n",
       "      <th>2023-09-30</th>\n",
       "      <td>1.139677</td>\n",
       "      <td>-6.88</td>\n",
       "      <td>AAPL</td>\n",
       "    </tr>\n",
       "    <tr>\n",
       "      <th>2019-12-31</th>\n",
       "      <td>1.587514</td>\n",
       "      <td>NaN</td>\n",
       "      <td>GOOG</td>\n",
       "    </tr>\n",
       "    <tr>\n",
       "      <th>2020-12-31</th>\n",
       "      <td>1.617224</td>\n",
       "      <td>1.87</td>\n",
       "      <td>GOOG</td>\n",
       "    </tr>\n",
       "    <tr>\n",
       "      <th>2021-12-31</th>\n",
       "      <td>1.205424</td>\n",
       "      <td>-25.46</td>\n",
       "      <td>GOOG</td>\n",
       "    </tr>\n",
       "    <tr>\n",
       "      <th>2022-12-31</th>\n",
       "      <td>1.525629</td>\n",
       "      <td>26.56</td>\n",
       "      <td>GOOG</td>\n",
       "    </tr>\n",
       "    <tr>\n",
       "      <th>2020-01-31</th>\n",
       "      <td>1.70279</td>\n",
       "      <td>NaN</td>\n",
       "      <td>NVDA</td>\n",
       "    </tr>\n",
       "    <tr>\n",
       "      <th>2021-01-31</th>\n",
       "      <td>1.343952</td>\n",
       "      <td>-21.07</td>\n",
       "      <td>NVDA</td>\n",
       "    </tr>\n",
       "    <tr>\n",
       "      <th>2022-01-31</th>\n",
       "      <td>0.933962</td>\n",
       "      <td>-30.51</td>\n",
       "      <td>NVDA</td>\n",
       "    </tr>\n",
       "    <tr>\n",
       "      <th>2023-01-31</th>\n",
       "      <td>1.291438</td>\n",
       "      <td>38.28</td>\n",
       "      <td>NVDA</td>\n",
       "    </tr>\n",
       "    <tr>\n",
       "      <th>2020-06-30</th>\n",
       "      <td>1.370227</td>\n",
       "      <td>NaN</td>\n",
       "      <td>MSFT</td>\n",
       "    </tr>\n",
       "    <tr>\n",
       "      <th>2021-06-30</th>\n",
       "      <td>1.252469</td>\n",
       "      <td>-8.59</td>\n",
       "      <td>MSFT</td>\n",
       "    </tr>\n",
       "    <tr>\n",
       "      <th>2022-06-30</th>\n",
       "      <td>1.224051</td>\n",
       "      <td>-2.27</td>\n",
       "      <td>MSFT</td>\n",
       "    </tr>\n",
       "    <tr>\n",
       "      <th>2023-06-30</th>\n",
       "      <td>1.210348</td>\n",
       "      <td>-1.12</td>\n",
       "      <td>MSFT</td>\n",
       "    </tr>\n",
       "    <tr>\n",
       "      <th>2019-12-31</th>\n",
       "      <td>1.574734</td>\n",
       "      <td>NaN</td>\n",
       "      <td>INTC</td>\n",
       "    </tr>\n",
       "    <tr>\n",
       "      <th>2020-12-31</th>\n",
       "      <td>1.693095</td>\n",
       "      <td>7.52</td>\n",
       "      <td>INTC</td>\n",
       "    </tr>\n",
       "    <tr>\n",
       "      <th>2021-12-31</th>\n",
       "      <td>1.509513</td>\n",
       "      <td>-10.84</td>\n",
       "      <td>INTC</td>\n",
       "    </tr>\n",
       "    <tr>\n",
       "      <th>2022-12-31</th>\n",
       "      <td>1.925755</td>\n",
       "      <td>27.57</td>\n",
       "      <td>INTC</td>\n",
       "    </tr>\n",
       "    <tr>\n",
       "      <th>2019-12-31</th>\n",
       "      <td>0.773551</td>\n",
       "      <td>NaN</td>\n",
       "      <td>PFE</td>\n",
       "    </tr>\n",
       "    <tr>\n",
       "      <th>2020-12-31</th>\n",
       "      <td>1.497816</td>\n",
       "      <td>93.63</td>\n",
       "      <td>PFE</td>\n",
       "    </tr>\n",
       "    <tr>\n",
       "      <th>2021-12-31</th>\n",
       "      <td>1.482324</td>\n",
       "      <td>-1.03</td>\n",
       "      <td>PFE</td>\n",
       "    </tr>\n",
       "    <tr>\n",
       "      <th>2022-12-31</th>\n",
       "      <td>0.932902</td>\n",
       "      <td>-37.06</td>\n",
       "      <td>PFE</td>\n",
       "    </tr>\n",
       "    <tr>\n",
       "      <th>2019-12-31</th>\n",
       "      <td>1.566112</td>\n",
       "      <td>NaN</td>\n",
       "      <td>IBM</td>\n",
       "    </tr>\n",
       "    <tr>\n",
       "      <th>2020-12-31</th>\n",
       "      <td>3.255277</td>\n",
       "      <td>107.86</td>\n",
       "      <td>IBM</td>\n",
       "    </tr>\n",
       "    <tr>\n",
       "      <th>2021-12-31</th>\n",
       "      <td>2.228492</td>\n",
       "      <td>-31.54</td>\n",
       "      <td>IBM</td>\n",
       "    </tr>\n",
       "    <tr>\n",
       "      <th>2022-12-31</th>\n",
       "      <td>6.366687</td>\n",
       "      <td>185.69</td>\n",
       "      <td>IBM</td>\n",
       "    </tr>\n",
       "    <tr>\n",
       "      <th>2019-12-31</th>\n",
       "      <td>-1.7618</td>\n",
       "      <td>NaN</td>\n",
       "      <td>GE</td>\n",
       "    </tr>\n",
       "    <tr>\n",
       "      <th>2020-12-31</th>\n",
       "      <td>0.63061</td>\n",
       "      <td>-135.79</td>\n",
       "      <td>GE</td>\n",
       "    </tr>\n",
       "    <tr>\n",
       "      <th>2021-12-31</th>\n",
       "      <td>-0.511043</td>\n",
       "      <td>-181.04</td>\n",
       "      <td>GE</td>\n",
       "    </tr>\n",
       "    <tr>\n",
       "      <th>2022-12-31</th>\n",
       "      <td>17.451327</td>\n",
       "      <td>-3514.85</td>\n",
       "      <td>GE</td>\n",
       "    </tr>\n",
       "  </tbody>\n",
       "</table>\n",
       "</div>"
      ],
      "text/plain": [
       "           Cash Flow to Income Ratio  Cash Flow to Income Ratio YoY Change  \\\n",
       "2020-09-30                  1.405201                                   NaN   \n",
       "2021-09-30                  1.098838                                -21.80   \n",
       "2022-09-30                  1.223921                                 11.38   \n",
       "2023-09-30                  1.139677                                 -6.88   \n",
       "2019-12-31                  1.587514                                   NaN   \n",
       "2020-12-31                  1.617224                                  1.87   \n",
       "2021-12-31                  1.205424                                -25.46   \n",
       "2022-12-31                  1.525629                                 26.56   \n",
       "2020-01-31                   1.70279                                   NaN   \n",
       "2021-01-31                  1.343952                                -21.07   \n",
       "2022-01-31                  0.933962                                -30.51   \n",
       "2023-01-31                  1.291438                                 38.28   \n",
       "2020-06-30                  1.370227                                   NaN   \n",
       "2021-06-30                  1.252469                                 -8.59   \n",
       "2022-06-30                  1.224051                                 -2.27   \n",
       "2023-06-30                  1.210348                                 -1.12   \n",
       "2019-12-31                  1.574734                                   NaN   \n",
       "2020-12-31                  1.693095                                  7.52   \n",
       "2021-12-31                  1.509513                                -10.84   \n",
       "2022-12-31                  1.925755                                 27.57   \n",
       "2019-12-31                  0.773551                                   NaN   \n",
       "2020-12-31                  1.497816                                 93.63   \n",
       "2021-12-31                  1.482324                                 -1.03   \n",
       "2022-12-31                  0.932902                                -37.06   \n",
       "2019-12-31                  1.566112                                   NaN   \n",
       "2020-12-31                  3.255277                                107.86   \n",
       "2021-12-31                  2.228492                                -31.54   \n",
       "2022-12-31                  6.366687                                185.69   \n",
       "2019-12-31                   -1.7618                                   NaN   \n",
       "2020-12-31                   0.63061                               -135.79   \n",
       "2021-12-31                 -0.511043                               -181.04   \n",
       "2022-12-31                 17.451327                              -3514.85   \n",
       "\n",
       "           Company  \n",
       "2020-09-30    AAPL  \n",
       "2021-09-30    AAPL  \n",
       "2022-09-30    AAPL  \n",
       "2023-09-30    AAPL  \n",
       "2019-12-31    GOOG  \n",
       "2020-12-31    GOOG  \n",
       "2021-12-31    GOOG  \n",
       "2022-12-31    GOOG  \n",
       "2020-01-31    NVDA  \n",
       "2021-01-31    NVDA  \n",
       "2022-01-31    NVDA  \n",
       "2023-01-31    NVDA  \n",
       "2020-06-30    MSFT  \n",
       "2021-06-30    MSFT  \n",
       "2022-06-30    MSFT  \n",
       "2023-06-30    MSFT  \n",
       "2019-12-31    INTC  \n",
       "2020-12-31    INTC  \n",
       "2021-12-31    INTC  \n",
       "2022-12-31    INTC  \n",
       "2019-12-31     PFE  \n",
       "2020-12-31     PFE  \n",
       "2021-12-31     PFE  \n",
       "2022-12-31     PFE  \n",
       "2019-12-31     IBM  \n",
       "2020-12-31     IBM  \n",
       "2021-12-31     IBM  \n",
       "2022-12-31     IBM  \n",
       "2019-12-31      GE  \n",
       "2020-12-31      GE  \n",
       "2021-12-31      GE  \n",
       "2022-12-31      GE  "
      ]
     },
     "execution_count": 48,
     "metadata": {},
     "output_type": "execute_result"
    }
   ],
   "source": [
    "efficiency=get_MultipleEfficiencyRatios(listoftickers)\n",
    "efficiency"
   ]
  },
  {
   "cell_type": "code",
   "execution_count": 47,
   "metadata": {},
   "outputs": [
    {
     "data": {
      "text/html": [
       "<div>\n",
       "<style scoped>\n",
       "    .dataframe tbody tr th:only-of-type {\n",
       "        vertical-align: middle;\n",
       "    }\n",
       "\n",
       "    .dataframe tbody tr th {\n",
       "        vertical-align: top;\n",
       "    }\n",
       "\n",
       "    .dataframe thead th {\n",
       "        text-align: right;\n",
       "    }\n",
       "</style>\n",
       "<table border=\"1\" class=\"dataframe\">\n",
       "  <thead>\n",
       "    <tr style=\"text-align: right;\">\n",
       "      <th></th>\n",
       "      <th>Company</th>\n",
       "      <th>Cash Flow to Income Ratio</th>\n",
       "    </tr>\n",
       "  </thead>\n",
       "  <tbody>\n",
       "    <tr>\n",
       "      <th>1</th>\n",
       "      <td>GE</td>\n",
       "      <td>8.470142</td>\n",
       "    </tr>\n",
       "    <tr>\n",
       "      <th>3</th>\n",
       "      <td>IBM</td>\n",
       "      <td>4.297589</td>\n",
       "    </tr>\n",
       "    <tr>\n",
       "      <th>4</th>\n",
       "      <td>INTC</td>\n",
       "      <td>1.717634</td>\n",
       "    </tr>\n",
       "    <tr>\n",
       "      <th>2</th>\n",
       "      <td>GOOG</td>\n",
       "      <td>1.365526</td>\n",
       "    </tr>\n",
       "    <tr>\n",
       "      <th>5</th>\n",
       "      <td>MSFT</td>\n",
       "      <td>1.217199</td>\n",
       "    </tr>\n",
       "    <tr>\n",
       "      <th>7</th>\n",
       "      <td>PFE</td>\n",
       "      <td>1.207613</td>\n",
       "    </tr>\n",
       "    <tr>\n",
       "      <th>0</th>\n",
       "      <td>AAPL</td>\n",
       "      <td>1.154146</td>\n",
       "    </tr>\n",
       "    <tr>\n",
       "      <th>6</th>\n",
       "      <td>NVDA</td>\n",
       "      <td>1.1127</td>\n",
       "    </tr>\n",
       "  </tbody>\n",
       "</table>\n",
       "</div>"
      ],
      "text/plain": [
       "  Company Cash Flow to Income Ratio\n",
       "1      GE                  8.470142\n",
       "3     IBM                  4.297589\n",
       "4    INTC                  1.717634\n",
       "2    GOOG                  1.365526\n",
       "5    MSFT                  1.217199\n",
       "7     PFE                  1.207613\n",
       "0    AAPL                  1.154146\n",
       "6    NVDA                    1.1127"
      ]
     },
     "execution_count": 47,
     "metadata": {},
     "output_type": "execute_result"
    }
   ],
   "source": [
    "cash_flow_to_net_income_Ratio_Ranking=get_RankingTableEfficiency(efficiency)\n",
    "cash_flow_to_net_income_Ratio_Ranking"
   ]
  },
  {
   "cell_type": "code",
   "execution_count": 43,
   "metadata": {},
   "outputs": [],
   "source": [
    "def get_MultipleLiquidityRatios(listoftickers):\n",
    "    listofdfs=[]\n",
    "    for i in range(len(listoftickers)):\n",
    "        current_Assets, non_current_Assets,total_Assets,current_Liabilities,non_current_Liabilities,total_Liabilities,total_ShareHolderEquity=extract_balance_sheet(listoftickers[i])\n",
    "        cashflow=get_CashFLow(listoftickers[i])\n",
    "        current_Ratio=get_CurrentRatio(current_Assets,current_Liabilities)\n",
    "        current_Ratio = current_Ratio.sort_index()\n",
    "        current_Ratio['Current Ratio YoY Change']=round(current_Ratio['Current Ratio'].pct_change() * 100,2)\n",
    "        operating_cash_flow_Ratio=get_OperatingCashFlowRatio(cashflow,current_Liabilities)\n",
    "        operating_cash_flow_Ratio = operating_cash_flow_Ratio.sort_index()\n",
    "        operating_cash_flow_Ratio['Operating Cash Flow Ratio YoY Change']=round(operating_cash_flow_Ratio['Operating Cash Flow Ratio'].pct_change() * 100,2)\n",
    "        operating_cash_flow_Ratio['Company'] = [listoftickers[i]] * len(operating_cash_flow_Ratio)\n",
    "        df=pd.concat([current_Ratio,operating_cash_flow_Ratio],axis=1)\n",
    "        listofdfs.append(df)        \n",
    "    liquidityRatios = pd.concat(listofdfs, axis=0)\n",
    "    return liquidityRatios"
   ]
  },
  {
   "cell_type": "code",
   "execution_count": 44,
   "metadata": {},
   "outputs": [],
   "source": [
    "def get_RankingTableLiquidity(liquidity):\n",
    "    df = liquidity.sort_index()\n",
    "    # Extract the last two years\n",
    "    last_two_years = df[df.index >= (df.index.max() - pd.DateOffset(years=2))]\n",
    "    # Calculate the mean Gross Profit Margin YoY Change for each company\n",
    "    current_ratio_Ranking = last_two_years.groupby('Company')['Current Ratio'].mean()\n",
    "    current_ratio_Ranking = current_ratio_Ranking.reset_index()\n",
    "    current_ratio_Ranking = current_ratio_Ranking.sort_values(by='Current Ratio', ascending=False)\n",
    "    operating_cash_flow_ratio_Ranking=last_two_years.groupby('Company')['Operating Cash Flow Ratio'].mean()\n",
    "    operating_cash_flow_ratio_Ranking = operating_cash_flow_ratio_Ranking.reset_index()\n",
    "    operating_cash_flow_ratio_Ranking = operating_cash_flow_ratio_Ranking.sort_values(by='Operating Cash Flow Ratio', ascending=False)\n",
    "    return current_ratio_Ranking,operating_cash_flow_ratio_Ranking\n",
    "    "
   ]
  },
  {
   "cell_type": "code",
   "execution_count": 45,
   "metadata": {},
   "outputs": [],
   "source": [
    "liquidity= get_MultipleLiquidityRatios(listoftickers)\n",
    "current_ratio_Ranking,operating_cash_flow_ratio_Ranking=get_RankingTableLiquidity(liquidity)\n"
   ]
  }
 ],
 "metadata": {
  "kernelspec": {
   "display_name": "env",
   "language": "python",
   "name": "python3"
  },
  "language_info": {
   "codemirror_mode": {
    "name": "ipython",
    "version": 3
   },
   "file_extension": ".py",
   "mimetype": "text/x-python",
   "name": "python",
   "nbconvert_exporter": "python",
   "pygments_lexer": "ipython3",
   "version": "3.10.9"
  }
 },
 "nbformat": 4,
 "nbformat_minor": 2
}
